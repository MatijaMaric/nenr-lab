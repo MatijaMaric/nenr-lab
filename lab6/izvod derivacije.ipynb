{
 "cells": [
  {
   "cell_type": "markdown",
   "metadata": {},
   "source": [
    "$$ \\pi_i = \\alpha_i \\beta_i $$"
   ]
  },
  {
   "cell_type": "markdown",
   "metadata": {},
   "source": [
    "$$ z = p_i x + q_i y + r_i $$"
   ]
  },
  {
   "cell_type": "markdown",
   "metadata": {},
   "source": [
    "$$ o_k = \\frac{\\sum_{i=1}^{m}\\pi_i z_i }{\\sum_{i=1}^{m} \\pi_i } $$"
   ]
  },
  {
   "cell_type": "markdown",
   "metadata": {},
   "source": [
    "## $ a_i $ i $ b_i $ ##"
   ]
  },
  {
   "cell_type": "markdown",
   "metadata": {},
   "source": [
    "$$ \\frac{\\partial E_k}{\\partial a_i} = \\frac{\\partial E_k}{\\partial o_k}\\frac{\\partial o_k}{\\partial \\pi_i}\\frac{\\partial \\pi_i}{\\partial \\alpha_i}\\frac{\\partial \\alpha_i}{\\partial a_i} $$"
   ]
  },
  {
   "cell_type": "markdown",
   "metadata": {},
   "source": [
    "$$ \\frac{\\partial E_k}{\\partial b_i} = \\frac{\\partial E_k}{\\partial o_k}\\frac{\\partial o_k}{\\partial \\pi_i}\\frac{\\partial \\pi_i}{\\partial \\alpha_i}\\frac{\\partial \\alpha_i}{\\partial b_i} $$"
   ]
  },
  {
   "cell_type": "markdown",
   "metadata": {},
   "source": [
    "$$ \\frac{\\partial E_k}{\\partial o_k} = -(y_k - o_k) $$ "
   ]
  },
  {
   "cell_type": "markdown",
   "metadata": {},
   "source": [
    "$$ \\frac{\\partial o_k}{\\partial \\pi_i} = \\frac{\\sum_{j=1,j!=i}^{m} \\pi_j(z_i-z_j)}{(\\sum_{j=1}^{m} \\pi_j)^2} $$"
   ]
  },
  {
   "cell_type": "markdown",
   "metadata": {},
   "source": [
    "$$ \\frac{\\partial \\pi_i}{\\partial \\alpha_i} = \\beta_i $$"
   ]
  },
  {
   "cell_type": "markdown",
   "metadata": {},
   "source": [
    "$$ \\frac{\\partial \\alpha_i}{\\partial a_i} = b_i\\alpha_i(1-\\alpha_i) $$"
   ]
  },
  {
   "cell_type": "markdown",
   "metadata": {},
   "source": [
    "$$ \\frac{\\partial \\alpha_i}{\\partial b_i} = -(x - a_i)\\alpha_i(1-\\alpha_i) $$"
   ]
  },
  {
   "cell_type": "markdown",
   "metadata": {},
   "source": [
    "$$ \\frac{\\partial E_k}{\\partial a_i} = -(y_k - o_k) \\frac{\\sum_{j=1,j!=i}^{m} \\pi_j(z_i-z_j)}{(\\sum_{j=1}^{m} \\pi_j)^2} \\beta_i b_i\\alpha_i(1-\\alpha_i) $$"
   ]
  },
  {
   "cell_type": "markdown",
   "metadata": {},
   "source": [
    "$$ \\frac{\\partial E_k}{\\partial b_i} = -(y_k - o_k) \\frac{\\sum_{j=1,j!=i}^{m} \\pi_j(z_i-z_j)}{(\\sum_{j=1}^{m} \\pi_j)^2} \\beta_i (-(x - a_i)\\alpha_i(1-\\alpha_i)) $$"
   ]
  },
  {
   "cell_type": "markdown",
   "metadata": {},
   "source": [
    "$$ \\frac{\\partial E_k}{\\partial a_i} = -(y_k - o_k) \\frac{\\sum_{j=1,j!=i}^{m} \\pi_j(z_i-z_j)}{(\\sum_{j=1}^{m} \\pi_j)^2} \\pi_i b_i(1-\\alpha_i) $$"
   ]
  },
  {
   "cell_type": "markdown",
   "metadata": {},
   "source": [
    "$$ \\frac{\\partial E_k}{\\partial b_i} = -(y_k - o_k) \\frac{\\sum_{j=1,j!=i}^{m} \\pi_j(z_i-z_j)}{(\\sum_{j=1}^{m} \\pi_j)^2} \\pi_i (a_i - x)(1-\\alpha_i) $$"
   ]
  },
  {
   "cell_type": "markdown",
   "metadata": {},
   "source": [
    "# $p$, $q$ i $r$"
   ]
  },
  {
   "cell_type": "markdown",
   "metadata": {},
   "source": [
    "$$ \\frac{\\partial o_k}{\\partial z_i} = \\frac{\\pi_i}{\\sum_{j=1}^{m} \\pi_j} $$"
   ]
  },
  {
   "cell_type": "markdown",
   "metadata": {},
   "source": [
    "$$ \\frac{\\partial z_i}{\\partial p_i} = x_i $$"
   ]
  },
  {
   "cell_type": "markdown",
   "metadata": {},
   "source": [
    "$$ \\frac{\\partial z_i}{\\partial q_i} = y_i $$"
   ]
  },
  {
   "cell_type": "markdown",
   "metadata": {},
   "source": [
    "$$ \\frac{\\partial z_i}{\\partial r_i} = 1 $$"
   ]
  },
  {
   "cell_type": "markdown",
   "metadata": {},
   "source": [
    "$$ \\frac{\\partial E_k}{\\partial p_i} = \\frac{\\partial E_k}{\\partial o_k} \\frac{\\partial o_k}{\\partial z_i} \\frac{\\partial z_i}{\\partial p_i} $$"
   ]
  },
  {
   "cell_type": "markdown",
   "metadata": {},
   "source": [
    "$$ \\frac{\\partial E_k}{\\partial q_i} = \\frac{\\partial E_k}{\\partial o_k} \\frac{\\partial o_k}{\\partial z_i} \\frac{\\partial z_i}{\\partial q_i} $$"
   ]
  },
  {
   "cell_type": "markdown",
   "metadata": {},
   "source": [
    "$$ \\frac{\\partial E_k}{\\partial r_i} = \\frac{\\partial E_k}{\\partial o_k} \\frac{\\partial o_k}{\\partial z_i} \\frac{\\partial z_i}{\\partial r_i} $$"
   ]
  },
  {
   "cell_type": "markdown",
   "metadata": {},
   "source": [
    "$$ \\frac{\\partial E_k}{\\partial p_i} = -(y_k - o_k) \\frac{\\pi_i x_i}{\\sum_{j=1}^{m} \\pi_j}  $$"
   ]
  },
  {
   "cell_type": "markdown",
   "metadata": {},
   "source": [
    "$$ \\frac{\\partial E_k}{\\partial q_i} = -(y_k - o_k) \\frac{\\pi_i y_i}{\\sum_{j=1}^{m} \\pi_j}  $$"
   ]
  },
  {
   "cell_type": "markdown",
   "metadata": {},
   "source": [
    "$$ \\frac{\\partial E_k}{\\partial r_i} = -(y_k - o_k) \\frac{\\pi_i}{\\sum_{j=1}^{m} \\pi_j}  $$"
   ]
  },
  {
   "cell_type": "code",
   "execution_count": null,
   "metadata": {
    "collapsed": true
   },
   "outputs": [],
   "source": []
  }
 ],
 "metadata": {
  "kernelspec": {
   "display_name": "Python 3",
   "language": "python",
   "name": "python3"
  },
  "language_info": {
   "codemirror_mode": {
    "name": "ipython",
    "version": 3
   },
   "file_extension": ".py",
   "mimetype": "text/x-python",
   "name": "python",
   "nbconvert_exporter": "python",
   "pygments_lexer": "ipython3",
   "version": "3.6.2"
  }
 },
 "nbformat": 4,
 "nbformat_minor": 2
}
